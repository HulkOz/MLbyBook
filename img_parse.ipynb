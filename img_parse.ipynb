{
 "cells": [
  {
   "cell_type": "code",
   "execution_count": 63,
   "source": [
    "#import #scipy.misc\r\n",
    "from PIL import Image\r\n",
    "from PIL import ImageFilter"
   ],
   "outputs": [],
   "metadata": {}
  },
  {
   "cell_type": "code",
   "execution_count": 75,
   "source": [
    "image_file_name = 'img\\P_20210822_144820.jpg'\r\n",
    "\r\n",
    "im = Image.open(image_file_name, mode='r') #, as_gray=True\r\n",
    "print(im.format, im.size, im.mode)\r\n",
    "im = im.rotate(-90)\r\n",
    "im = im.convert(\"L\")\r\n",
    "print(im.format, im.size, im.mode)\r\n",
    "im = im.reduce(10)\r\n",
    "\r\n",
    "box = (700, 200, 1300, 1300)\r\n",
    "region = im.crop(box)\r\n",
    "print(\"before\",region.format, region.size, region.mode)\r\n",
    "im.show()\r\n",
    "data = region.getdata()\r\n",
    "print(region.getextrema())"
   ],
   "outputs": [
    {
     "output_type": "stream",
     "name": "stdout",
     "text": [
      "JPEG (4032, 3024) RGB\n",
      "None (4032, 3024) L\n",
      "before None (600, 1100) L\n",
      "(0, 0)\n"
     ]
    }
   ],
   "metadata": {}
  }
 ],
 "metadata": {
  "orig_nbformat": 4,
  "language_info": {
   "name": "python",
   "version": "3.9.6",
   "mimetype": "text/x-python",
   "codemirror_mode": {
    "name": "ipython",
    "version": 3
   },
   "pygments_lexer": "ipython3",
   "nbconvert_exporter": "python",
   "file_extension": ".py"
  },
  "kernelspec": {
   "name": "python3",
   "display_name": "Python 3.9.6 32-bit"
  },
  "interpreter": {
   "hash": "36f1ee99c2fbd244f31565d5d0d660596a4a6e342dc514e734909f5923a96706"
  }
 },
 "nbformat": 4,
 "nbformat_minor": 2
}