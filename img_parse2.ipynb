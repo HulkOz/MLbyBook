{
 "cells": [
  {
   "cell_type": "code",
   "execution_count": 5,
   "source": [
    "import cv2\r\n",
    "import numpy as np"
   ],
   "outputs": [],
   "metadata": {}
  },
  {
   "cell_type": "code",
   "execution_count": 6,
   "source": [
    "#load image into variable\r\n",
    "img_rgb = cv2.imread('img\\P_20210822_145317.jpg')\r\n",
    "\r\n",
    "\r\n",
    "templateV  = 'img\\letter_m.jpg' # м\r\n",
    "templateF = 'img\\letter_f.jpg'  # а\r\n",
    "templateJ = 'img\\letter_j.jpg'  # о\r\n",
    "templateK = 'img\\letter_k.jpg'  # л\r\n",
    "templateX = 'img\\letter_x.jpg'  # ч\r\n",
    "template__ = 'img\\letter_;.jpg'  # ж\r\n",
    "templateB = 'img\\letter_b.jpg'  # и\r\n",
    "templateE = 'img\\letter_e.jpg'  # у\r\n",
    "templateG = 'img\\letter_g.jpg'  # п\r\n",
    "templateH = 'img\\letter_h.jpg'  # р\r\n",
    "templateL = 'img\\letter_l.jpg'  # д\r\n",
    "templateN = 'img\\letter_n.jpg'  # т\r\n",
    "templateP = 'img\\letter_p.jpg'  # з\r\n",
    "templateR = 'img\\letter_r.jpg'  # к\r\n",
    "\r\n",
    "template_list = [templateV, templateF, templateJ, templateK, \r\n",
    "            templateX, template__, templateB, templateE, \r\n",
    "            templateG, templateH, templateL, \r\n",
    "            templateN, templateP, templateR]  \r\n",
    "xx = 0\r\n",
    "\r\n",
    "img_gray = cv2.cvtColor(img_rgb, cv2.COLOR_BGR2GRAY)\r\n",
    "\r\n",
    "for e in template_list:\r\n",
    "\r\n",
    "    template = cv2.imread(e, 0)\r\n",
    "\r\n",
    "    #read height and width of template image\r\n",
    "    w, h = template.shape[::-1] #template.shape[0], template.shape[1]\r\n",
    "\r\n",
    "    res = cv2.matchTemplate(img_gray, template ,cv2.TM_CCOEFF_NORMED)\r\n",
    "    #print(xx)\r\n",
    "    xx+=1    \r\n",
    "\r\n",
    "    threshold = 0.8\r\n",
    "    loc = np.where( res >= threshold)\r\n",
    "    for pt in zip(*loc[::-1]):\r\n",
    "        cv2.rectangle(img_rgb, pt, (pt[0] + w, pt[1] + h), (0,255,0), 2)\r\n",
    "pass\r\n",
    "\r\n",
    "img_rgb = cv2.resize(img_rgb,(800,600))\r\n",
    "cv2.imshow(\"result\",img_rgb)\r\n",
    "cv2.waitKey(100000)\r\n"
   ],
   "outputs": [
    {
     "output_type": "execute_result",
     "data": {
      "text/plain": [
       "-1"
      ]
     },
     "metadata": {},
     "execution_count": 6
    }
   ],
   "metadata": {}
  }
 ],
 "metadata": {
  "orig_nbformat": 4,
  "language_info": {
   "name": "python",
   "version": "3.9.6",
   "mimetype": "text/x-python",
   "codemirror_mode": {
    "name": "ipython",
    "version": 3
   },
   "pygments_lexer": "ipython3",
   "nbconvert_exporter": "python",
   "file_extension": ".py"
  },
  "kernelspec": {
   "name": "python3",
   "display_name": "Python 3.9.6 32-bit"
  },
  "interpreter": {
   "hash": "36f1ee99c2fbd244f31565d5d0d660596a4a6e342dc514e734909f5923a96706"
  }
 },
 "nbformat": 4,
 "nbformat_minor": 2
}